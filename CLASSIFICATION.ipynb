{
  "nbformat": 4,
  "nbformat_minor": 0,
  "metadata": {
    "colab": {
      "provenance": [],
      "include_colab_link": true
    },
    "kernelspec": {
      "name": "python3",
      "display_name": "Python 3"
    },
    "language_info": {
      "name": "python"
    }
  },
  "cells": [
    {
      "cell_type": "markdown",
      "metadata": {
        "id": "view-in-github",
        "colab_type": "text"
      },
      "source": [
        "<a href=\"https://colab.research.google.com/github/mahdie-1993/Machine_learning_with_Python_project/blob/main/CLASSIFICATION.ipynb\" target=\"_parent\"><img src=\"https://colab.research.google.com/assets/colab-badge.svg\" alt=\"Open In Colab\"/></a>"
      ]
    },
    {
      "cell_type": "code",
      "execution_count": null,
      "metadata": {
        "id": "Amp31VgzKTWU"
      },
      "outputs": [],
      "source": [
        "# importing pandas\n",
        "import pandas as pd\n",
        "# importing numpy\n",
        "import numpy as np\n",
        "# importing OneHotEncoder\n",
        "from sklearn.preprocessing import OneHotEncoder\n",
        "from sklearn.model_selection import train_test_split\n",
        "from sklearn.preprocessing import PolynomialFeatures\n",
        "from sklearn.linear_model import LinearRegression\n",
        "from sklearn.tree import DecisionTreeClassifier\n",
        "from sklearn import metrics"
      ]
    },
    {
      "cell_type": "code",
      "source": [
        "# reading dataset\n",
        "df = pd.read_csv('/content/16325569497737558 (1).csv')\n",
        "df.head()"
      ],
      "metadata": {
        "colab": {
          "base_uri": "https://localhost:8080/",
          "height": 206
        },
        "id": "SwMEj9uhKuHN",
        "outputId": "e0e4d2ac-36bf-4c5f-fb97-d6c35396f003"
      },
      "execution_count": null,
      "outputs": [
        {
          "output_type": "execute_result",
          "data": {
            "text/plain": [
              "   age  sex  cp  trtbps  chol  fbs  restecg  thalachh  exng  oldpeak  slp  \\\n",
              "0   63    1   3     145   233    1        0       150     0      2.3    0   \n",
              "1   37    1   2     130   250    0        1       187     0      3.5    0   \n",
              "2   41    0   1     130   204    0        0       172     0      1.4    2   \n",
              "3   56    1   1     120   236    0        1       178     0      0.8    2   \n",
              "4   57    0   0     120   354    0        1       163     1      0.6    2   \n",
              "\n",
              "   caa  thall  output  \n",
              "0    0      1       1  \n",
              "1    0      2       1  \n",
              "2    0      2       1  \n",
              "3    0      2       1  \n",
              "4    0      2       1  "
            ],
            "text/html": [
              "\n",
              "  <div id=\"df-10040060-1d6c-43d7-b222-d74749b4c436\">\n",
              "    <div class=\"colab-df-container\">\n",
              "      <div>\n",
              "<style scoped>\n",
              "    .dataframe tbody tr th:only-of-type {\n",
              "        vertical-align: middle;\n",
              "    }\n",
              "\n",
              "    .dataframe tbody tr th {\n",
              "        vertical-align: top;\n",
              "    }\n",
              "\n",
              "    .dataframe thead th {\n",
              "        text-align: right;\n",
              "    }\n",
              "</style>\n",
              "<table border=\"1\" class=\"dataframe\">\n",
              "  <thead>\n",
              "    <tr style=\"text-align: right;\">\n",
              "      <th></th>\n",
              "      <th>age</th>\n",
              "      <th>sex</th>\n",
              "      <th>cp</th>\n",
              "      <th>trtbps</th>\n",
              "      <th>chol</th>\n",
              "      <th>fbs</th>\n",
              "      <th>restecg</th>\n",
              "      <th>thalachh</th>\n",
              "      <th>exng</th>\n",
              "      <th>oldpeak</th>\n",
              "      <th>slp</th>\n",
              "      <th>caa</th>\n",
              "      <th>thall</th>\n",
              "      <th>output</th>\n",
              "    </tr>\n",
              "  </thead>\n",
              "  <tbody>\n",
              "    <tr>\n",
              "      <th>0</th>\n",
              "      <td>63</td>\n",
              "      <td>1</td>\n",
              "      <td>3</td>\n",
              "      <td>145</td>\n",
              "      <td>233</td>\n",
              "      <td>1</td>\n",
              "      <td>0</td>\n",
              "      <td>150</td>\n",
              "      <td>0</td>\n",
              "      <td>2.3</td>\n",
              "      <td>0</td>\n",
              "      <td>0</td>\n",
              "      <td>1</td>\n",
              "      <td>1</td>\n",
              "    </tr>\n",
              "    <tr>\n",
              "      <th>1</th>\n",
              "      <td>37</td>\n",
              "      <td>1</td>\n",
              "      <td>2</td>\n",
              "      <td>130</td>\n",
              "      <td>250</td>\n",
              "      <td>0</td>\n",
              "      <td>1</td>\n",
              "      <td>187</td>\n",
              "      <td>0</td>\n",
              "      <td>3.5</td>\n",
              "      <td>0</td>\n",
              "      <td>0</td>\n",
              "      <td>2</td>\n",
              "      <td>1</td>\n",
              "    </tr>\n",
              "    <tr>\n",
              "      <th>2</th>\n",
              "      <td>41</td>\n",
              "      <td>0</td>\n",
              "      <td>1</td>\n",
              "      <td>130</td>\n",
              "      <td>204</td>\n",
              "      <td>0</td>\n",
              "      <td>0</td>\n",
              "      <td>172</td>\n",
              "      <td>0</td>\n",
              "      <td>1.4</td>\n",
              "      <td>2</td>\n",
              "      <td>0</td>\n",
              "      <td>2</td>\n",
              "      <td>1</td>\n",
              "    </tr>\n",
              "    <tr>\n",
              "      <th>3</th>\n",
              "      <td>56</td>\n",
              "      <td>1</td>\n",
              "      <td>1</td>\n",
              "      <td>120</td>\n",
              "      <td>236</td>\n",
              "      <td>0</td>\n",
              "      <td>1</td>\n",
              "      <td>178</td>\n",
              "      <td>0</td>\n",
              "      <td>0.8</td>\n",
              "      <td>2</td>\n",
              "      <td>0</td>\n",
              "      <td>2</td>\n",
              "      <td>1</td>\n",
              "    </tr>\n",
              "    <tr>\n",
              "      <th>4</th>\n",
              "      <td>57</td>\n",
              "      <td>0</td>\n",
              "      <td>0</td>\n",
              "      <td>120</td>\n",
              "      <td>354</td>\n",
              "      <td>0</td>\n",
              "      <td>1</td>\n",
              "      <td>163</td>\n",
              "      <td>1</td>\n",
              "      <td>0.6</td>\n",
              "      <td>2</td>\n",
              "      <td>0</td>\n",
              "      <td>2</td>\n",
              "      <td>1</td>\n",
              "    </tr>\n",
              "  </tbody>\n",
              "</table>\n",
              "</div>\n",
              "      <button class=\"colab-df-convert\" onclick=\"convertToInteractive('df-10040060-1d6c-43d7-b222-d74749b4c436')\"\n",
              "              title=\"Convert this dataframe to an interactive table.\"\n",
              "              style=\"display:none;\">\n",
              "        \n",
              "  <svg xmlns=\"http://www.w3.org/2000/svg\" height=\"24px\"viewBox=\"0 0 24 24\"\n",
              "       width=\"24px\">\n",
              "    <path d=\"M0 0h24v24H0V0z\" fill=\"none\"/>\n",
              "    <path d=\"M18.56 5.44l.94 2.06.94-2.06 2.06-.94-2.06-.94-.94-2.06-.94 2.06-2.06.94zm-11 1L8.5 8.5l.94-2.06 2.06-.94-2.06-.94L8.5 2.5l-.94 2.06-2.06.94zm10 10l.94 2.06.94-2.06 2.06-.94-2.06-.94-.94-2.06-.94 2.06-2.06.94z\"/><path d=\"M17.41 7.96l-1.37-1.37c-.4-.4-.92-.59-1.43-.59-.52 0-1.04.2-1.43.59L10.3 9.45l-7.72 7.72c-.78.78-.78 2.05 0 2.83L4 21.41c.39.39.9.59 1.41.59.51 0 1.02-.2 1.41-.59l7.78-7.78 2.81-2.81c.8-.78.8-2.07 0-2.86zM5.41 20L4 18.59l7.72-7.72 1.47 1.35L5.41 20z\"/>\n",
              "  </svg>\n",
              "      </button>\n",
              "      \n",
              "  <style>\n",
              "    .colab-df-container {\n",
              "      display:flex;\n",
              "      flex-wrap:wrap;\n",
              "      gap: 12px;\n",
              "    }\n",
              "\n",
              "    .colab-df-convert {\n",
              "      background-color: #E8F0FE;\n",
              "      border: none;\n",
              "      border-radius: 50%;\n",
              "      cursor: pointer;\n",
              "      display: none;\n",
              "      fill: #1967D2;\n",
              "      height: 32px;\n",
              "      padding: 0 0 0 0;\n",
              "      width: 32px;\n",
              "    }\n",
              "\n",
              "    .colab-df-convert:hover {\n",
              "      background-color: #E2EBFA;\n",
              "      box-shadow: 0px 1px 2px rgba(60, 64, 67, 0.3), 0px 1px 3px 1px rgba(60, 64, 67, 0.15);\n",
              "      fill: #174EA6;\n",
              "    }\n",
              "\n",
              "    [theme=dark] .colab-df-convert {\n",
              "      background-color: #3B4455;\n",
              "      fill: #D2E3FC;\n",
              "    }\n",
              "\n",
              "    [theme=dark] .colab-df-convert:hover {\n",
              "      background-color: #434B5C;\n",
              "      box-shadow: 0px 1px 3px 1px rgba(0, 0, 0, 0.15);\n",
              "      filter: drop-shadow(0px 1px 2px rgba(0, 0, 0, 0.3));\n",
              "      fill: #FFFFFF;\n",
              "    }\n",
              "  </style>\n",
              "\n",
              "      <script>\n",
              "        const buttonEl =\n",
              "          document.querySelector('#df-10040060-1d6c-43d7-b222-d74749b4c436 button.colab-df-convert');\n",
              "        buttonEl.style.display =\n",
              "          google.colab.kernel.accessAllowed ? 'block' : 'none';\n",
              "\n",
              "        async function convertToInteractive(key) {\n",
              "          const element = document.querySelector('#df-10040060-1d6c-43d7-b222-d74749b4c436');\n",
              "          const dataTable =\n",
              "            await google.colab.kernel.invokeFunction('convertToInteractive',\n",
              "                                                     [key], {});\n",
              "          if (!dataTable) return;\n",
              "\n",
              "          const docLinkHtml = 'Like what you see? Visit the ' +\n",
              "            '<a target=\"_blank\" href=https://colab.research.google.com/notebooks/data_table.ipynb>data table notebook</a>'\n",
              "            + ' to learn more about interactive tables.';\n",
              "          element.innerHTML = '';\n",
              "          dataTable['output_type'] = 'display_data';\n",
              "          await google.colab.output.renderOutput(dataTable, element);\n",
              "          const docLink = document.createElement('div');\n",
              "          docLink.innerHTML = docLinkHtml;\n",
              "          element.appendChild(docLink);\n",
              "        }\n",
              "      </script>\n",
              "    </div>\n",
              "  </div>\n",
              "  "
            ]
          },
          "metadata": {},
          "execution_count": 163
        }
      ]
    },
    {
      "cell_type": "code",
      "source": [
        "to_drop = ['oldpeak','slp','thall']\n",
        "df.drop(to_drop, inplace=True, axis=1)"
      ],
      "metadata": {
        "id": "yKNhgLET9DJt"
      },
      "execution_count": null,
      "outputs": []
    },
    {
      "cell_type": "code",
      "source": [
        "df['output'].value_counts()"
      ],
      "metadata": {
        "colab": {
          "base_uri": "https://localhost:8080/"
        },
        "id": "7ZwEt5h36WUg",
        "outputId": "cca604e4-a6c6-43ef-85a9-3aa3f9bf2a80"
      },
      "execution_count": null,
      "outputs": [
        {
          "output_type": "execute_result",
          "data": {
            "text/plain": [
              "1    165\n",
              "0    138\n",
              "Name: output, dtype: int64"
            ]
          },
          "metadata": {},
          "execution_count": 165
        }
      ]
    },
    {
      "cell_type": "code",
      "source": [
        "df['output'].hist()"
      ],
      "metadata": {
        "colab": {
          "base_uri": "https://localhost:8080/",
          "height": 282
        },
        "id": "n6KGVCbz6oGI",
        "outputId": "3bb6a707-53b5-4786-b8c8-86661794a7e9"
      },
      "execution_count": null,
      "outputs": [
        {
          "output_type": "execute_result",
          "data": {
            "text/plain": [
              "<matplotlib.axes._subplots.AxesSubplot at 0x7fc20e6d8f10>"
            ]
          },
          "metadata": {},
          "execution_count": 166
        },
        {
          "output_type": "display_data",
          "data": {
            "text/plain": [
              "<Figure size 432x288 with 1 Axes>"
            ],
            "image/png": "[encoded data removed]"
          },
          "metadata": {
            "needs_background": "light"
          }
        }
      ]
    },
    {
      "cell_type": "code",
      "source": [
        "import matplotlib.pyplot as plt"
      ],
      "metadata": {
        "id": "snCE9Z7K7zMS"
      },
      "execution_count": null,
      "outputs": []
    },
    {
      "cell_type": "code",
      "source": [
        "ax = df[df['output'] == 0][0:50].plot(kind='scatter', x='age', y='thalachh', color='DarkBlue', label='low');\n",
        "df[df['output'] == 1][0:50].plot(kind='scatter', x='age', y='thalachh', color='Yellow', label='high', ax=ax);\n",
        "plt.show()"
      ],
      "metadata": {
        "colab": {
          "base_uri": "https://localhost:8080/",
          "height": 279
        },
        "id": "ZK_SgM7J66Um",
        "outputId": "5cd6f6ec-161f-492a-88d9-28d8ac6eebea"
      },
      "execution_count": null,
      "outputs": [
        {
          "output_type": "display_data",
          "data": {
            "text/plain": [
              "<Figure size 432x288 with 1 Axes>"
            ],
            "image/png": "[encoded data removed]"
          },
          "metadata": {
            "needs_background": "light"
          }
        }
      ]
    },
    {
      "cell_type": "code",
      "source": [
        "df.size"
      ],
      "metadata": {
        "colab": {
          "base_uri": "https://localhost:8080/"
        },
        "id": "t5d5c72ALAcz",
        "outputId": "95381aae-a54b-4a02-c6c0-064732887a70"
      },
      "execution_count": null,
      "outputs": [
        {
          "output_type": "execute_result",
          "data": {
            "text/plain": [
              "3333"
            ]
          },
          "metadata": {},
          "execution_count": 169
        }
      ]
    },
    {
      "cell_type": "code",
      "source": [
        "df.dtypes"
      ],
      "metadata": {
        "colab": {
          "base_uri": "https://localhost:8080/"
        },
        "id": "GUDGZMp_LH2t",
        "outputId": "43b190f8-79b4-4d77-a72a-976f9de4455c"
      },
      "execution_count": null,
      "outputs": [
        {
          "output_type": "execute_result",
          "data": {
            "text/plain": [
              "age         int64\n",
              "sex         int64\n",
              "cp          int64\n",
              "trtbps      int64\n",
              "chol        int64\n",
              "fbs         int64\n",
              "restecg     int64\n",
              "thalachh    int64\n",
              "exng        int64\n",
              "caa         int64\n",
              "output      int64\n",
              "dtype: object"
            ]
          },
          "metadata": {},
          "execution_count": 170
        }
      ]
    },
    {
      "cell_type": "code",
      "source": [
        "df.isnull().sum()"
      ],
      "metadata": {
        "colab": {
          "base_uri": "https://localhost:8080/"
        },
        "id": "nV-tRL9Rh8Z4",
        "outputId": "091a04d9-367a-463d-f1b5-15eb8d401ceb"
      },
      "execution_count": null,
      "outputs": [
        {
          "output_type": "execute_result",
          "data": {
            "text/plain": [
              "age         0\n",
              "sex         0\n",
              "cp          0\n",
              "trtbps      0\n",
              "chol        0\n",
              "fbs         0\n",
              "restecg     0\n",
              "thalachh    0\n",
              "exng        0\n",
              "caa         0\n",
              "output      0\n",
              "dtype: int64"
            ]
          },
          "metadata": {},
          "execution_count": 171
        }
      ]
    },
    {
      "cell_type": "code",
      "source": [
        "df.columns"
      ],
      "metadata": {
        "colab": {
          "base_uri": "https://localhost:8080/"
        },
        "id": "t8ow2nN9jR_I",
        "outputId": "94b8a35b-a39b-4b8b-b0a8-a1cdd50eaee4"
      },
      "execution_count": null,
      "outputs": [
        {
          "output_type": "execute_result",
          "data": {
            "text/plain": [
              "Index(['age', 'sex', 'cp', 'trtbps', 'chol', 'fbs', 'restecg', 'thalachh',\n",
              "       'exng', 'caa', 'output'],\n",
              "      dtype='object')"
            ]
          },
          "metadata": {},
          "execution_count": 172
        }
      ]
    },
    {
      "cell_type": "code",
      "source": [
        "X = np.asarray(df[['age', 'sex', 'cp', 'trtbps', 'chol', 'fbs', 'restecg', 'thalachh','exng', 'caa']])\n",
        "X[0:5]"
      ],
      "metadata": {
        "colab": {
          "base_uri": "https://localhost:8080/"
        },
        "id": "xAptLolGiC32",
        "outputId": "f79bada4-7b94-46c8-f25e-6352ae256406"
      },
      "execution_count": null,
      "outputs": [
        {
          "output_type": "execute_result",
          "data": {
            "text/plain": [
              "array([[ 63,   1,   3, 145, 233,   1,   0, 150,   0,   0],\n",
              "       [ 37,   1,   2, 130, 250,   0,   1, 187,   0,   0],\n",
              "       [ 41,   0,   1, 130, 204,   0,   0, 172,   0,   0],\n",
              "       [ 56,   1,   1, 120, 236,   0,   1, 178,   0,   0],\n",
              "       [ 57,   0,   0, 120, 354,   0,   1, 163,   1,   0]])"
            ]
          },
          "metadata": {},
          "execution_count": 173
        }
      ]
    },
    {
      "cell_type": "code",
      "source": [
        "y = np.asarray(df['output'])\n",
        "y [0:5]"
      ],
      "metadata": {
        "colab": {
          "base_uri": "https://localhost:8080/"
        },
        "id": "9p-VC4zajmbD",
        "outputId": "512be141-bdb0-4028-ea25-f26bd5984916"
      },
      "execution_count": null,
      "outputs": [
        {
          "output_type": "execute_result",
          "data": {
            "text/plain": [
              "array([1, 1, 1, 1, 1])"
            ]
          },
          "metadata": {},
          "execution_count": 174
        }
      ]
    },
    {
      "cell_type": "code",
      "source": [
        "from sklearn import preprocessing\n",
        "X = preprocessing.StandardScaler().fit(X).transform(X)\n",
        "X[0:5]"
      ],
      "metadata": {
        "colab": {
          "base_uri": "https://localhost:8080/"
        },
        "id": "br1WSVNoj45v",
        "outputId": "059447cc-a79d-429a-8f58-250895ca74c5"
      },
      "execution_count": null,
      "outputs": [
        {
          "output_type": "execute_result",
          "data": {
            "text/plain": [
              "array([[ 0.95,  0.68,  1.97,  0.76, -0.26,  2.39, -1.01,  0.02, -0.7 ,\n",
              "        -0.71],\n",
              "       [-1.92,  0.68,  1.  , -0.09,  0.07, -0.42,  0.9 ,  1.63, -0.7 ,\n",
              "        -0.71],\n",
              "       [-1.47, -1.47,  0.03, -0.09, -0.82, -0.42, -1.01,  0.98, -0.7 ,\n",
              "        -0.71],\n",
              "       [ 0.18,  0.68,  0.03, -0.66, -0.2 , -0.42,  0.9 ,  1.24, -0.7 ,\n",
              "        -0.71],\n",
              "       [ 0.29, -1.47, -0.94, -0.66,  2.08, -0.42,  0.9 ,  0.58,  1.44,\n",
              "        -0.71]])"
            ]
          },
          "metadata": {},
          "execution_count": 175
        }
      ]
    },
    {
      "cell_type": "code",
      "source": [
        "from sklearn.model_selection import train_test_split\n",
        "X_train, X_test, y_train, y_test = train_test_split( X, y, test_size=0.2, random_state=4)\n",
        "print ('Train set:', X_train.shape,  y_train.shape)\n",
        "print ('Test set:', X_test.shape,  y_test.shape)"
      ],
      "metadata": {
        "colab": {
          "base_uri": "https://localhost:8080/"
        },
        "id": "bgAIA9Foj-rk",
        "outputId": "39e03b29-0895-4118-f39b-dac2f1924c85"
      },
      "execution_count": null,
      "outputs": [
        {
          "output_type": "stream",
          "name": "stdout",
          "text": [
            "Train set: (242, 10) (242,)\n",
            "Test set: (61, 10) (61,)\n"
          ]
        }
      ]
    },
    {
      "cell_type": "markdown",
      "source": [
        "## **Logistic regression**"
      ],
      "metadata": {
        "id": "1ev494fDACCj"
      }
    },
    {
      "cell_type": "code",
      "source": [],
      "metadata": {
        "id": "siYZOA-fABYE"
      },
      "execution_count": null,
      "outputs": []
    },
    {
      "cell_type": "code",
      "source": [
        "from sklearn.linear_model import LogisticRegression\n",
        "from sklearn.metrics import confusion_matrix\n",
        "LR = LogisticRegression(C=0.01, solver='liblinear').fit(X_train,y_train)\n",
        "LR"
      ],
      "metadata": {
        "colab": {
          "base_uri": "https://localhost:8080/"
        },
        "id": "y9yT7aorkEtp",
        "outputId": "20f5bd1b-38c6-4f3a-cfe5-744c66059542"
      },
      "execution_count": null,
      "outputs": [
        {
          "output_type": "execute_result",
          "data": {
            "text/plain": [
              "LogisticRegression(C=0.01, solver='liblinear')"
            ]
          },
          "metadata": {},
          "execution_count": 177
        }
      ]
    },
    {
      "cell_type": "code",
      "source": [
        "yhat = LR.predict(X_test)\n",
        "print(yhat)\n",
        "print(y_test)"
      ],
      "metadata": {
        "colab": {
          "base_uri": "https://localhost:8080/"
        },
        "id": "OQsgThoVkJ9j",
        "outputId": "8ca0cd62-de0f-4f26-cc5a-49b54d47ce25"
      },
      "execution_count": null,
      "outputs": [
        {
          "output_type": "stream",
          "name": "stdout",
          "text": [
            "[1 0 1 1 1 1 0 1 1 1 1 1 1 0 1 0 1 1 0 1 1 1 0 1 1 0 0 1 0 0 0 1 1 1 1 1 1\n",
            " 1 1 0 0 0 0 1 1 1 0 0 0 1 0 1 1 0 1 1 1 1 0 0 1]\n",
            "[1 0 1 1 0 0 0 1 1 1 1 1 1 0 1 0 1 1 0 0 1 1 0 1 1 0 0 1 1 0 0 1 1 1 0 1 1\n",
            " 1 0 0 0 0 0 1 1 1 0 0 0 1 0 1 1 1 1 1 1 1 0 0 1]\n"
          ]
        }
      ]
    },
    {
      "cell_type": "code",
      "source": [
        "yhat_prob = LR.predict_proba(X_test)\n"
      ],
      "metadata": {
        "id": "vlX6h6Z2kQTx"
      },
      "execution_count": null,
      "outputs": []
    },
    {
      "cell_type": "code",
      "source": [],
      "metadata": {
        "id": "m5pSXCnL1pIW"
      },
      "execution_count": null,
      "outputs": []
    },
    {
      "cell_type": "markdown",
      "source": [
        "## **jaccard_score**"
      ],
      "metadata": {
        "id": "3VUdbqP21uD_"
      }
    },
    {
      "cell_type": "markdown",
      "source": [
        "Jaccard similarity coefficient score.\n",
        "\n",
        "The Jaccard index, or Jaccard similarity coefficient, defined as the size of the intersection divided by the size of the union of two label sets, is used to compare set of predicted labels for a sample to the corresponding set of labels in y_true.\n",
        "\n",
        "\n",
        "***sklearn.metrics.jaccard_score***(**y_true**, **y_pred**, labels=None, pos_label=1, average='binary', sample_weight=None, zero_division='warn')\n",
        "![image.png](data:image/png;base64,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)"
      ],
      "metadata": {
        "id": "1u4EvkiI1pzX"
      }
    },
    {
      "cell_type": "code",
      "source": [
        "from sklearn.metrics import jaccard_score\n",
        "jaccard_score(y_test, yhat,pos_label=0) #برای جواب صفر"
      ],
      "metadata": {
        "colab": {
          "base_uri": "https://localhost:8080/"
        },
        "id": "UKe_6bhMkdDd",
        "outputId": "062d5b0a-e008-428f-f07f-e6f72001d2c8"
      },
      "execution_count": null,
      "outputs": [
        {
          "output_type": "execute_result",
          "data": {
            "text/plain": [
              "0.7407407407407407"
            ]
          },
          "metadata": {},
          "execution_count": 180
        }
      ]
    },
    {
      "cell_type": "code",
      "source": [
        "import matplotlib.pyplot as plt"
      ],
      "metadata": {
        "id": "Jx-MAZZBkp6Q"
      },
      "execution_count": null,
      "outputs": []
    },
    {
      "cell_type": "code",
      "source": [
        "from sklearn.metrics import classification_report, confusion_matrix\n",
        "import itertools\n",
        "def plot_confusion_matrix(cm, classes,\n",
        "                          normalize=False,\n",
        "                          title='Confusion matrix',\n",
        "                          cmap=plt.cm.Blues):\n",
        "    \"\"\"\n",
        "    This function prints and plots the confusion matrix.\n",
        "    Normalization can be applied by setting `normalize=True`.\n",
        "    \"\"\"\n",
        "    if normalize:\n",
        "        cm = cm.astype('float') / cm.sum(axis=1)[:, np.newaxis]\n",
        "        print(\"Normalized confusion matrix\")\n",
        "    else:\n",
        "        print('Confusion matrix, without normalization')\n",
        "\n",
        "    print(cm)\n",
        "\n",
        "    plt.imshow(cm, interpolation='nearest', cmap=cmap)\n",
        "    plt.title(title)\n",
        "    plt.colorbar()\n",
        "    tick_marks = np.arange(len(classes))\n",
        "    plt.xticks(tick_marks, classes, rotation=45)\n",
        "    plt.yticks(tick_marks, classes)\n",
        "\n",
        "    fmt = '.2f' if normalize else 'd'\n",
        "    thresh = cm.max() / 2.\n",
        "    for i, j in itertools.product(range(cm.shape[0]), range(cm.shape[1])):\n",
        "        plt.text(j, i, format(cm[i, j], fmt),\n",
        "                 horizontalalignment=\"center\",\n",
        "                 color=\"white\" if cm[i, j] > thresh else \"black\")\n",
        "\n",
        "    plt.tight_layout()\n",
        "    plt.ylabel('True label')\n",
        "    plt.xlabel('Predicted label')\n",
        "print(confusion_matrix(y_test, yhat, labels=[1,0]))"
      ],
      "metadata": {
        "colab": {
          "base_uri": "https://localhost:8080/"
        },
        "id": "b7LW3IvaklUW",
        "outputId": "f7ee19d6-1311-4719-c9ad-e856dfb5284f"
      },
      "execution_count": null,
      "outputs": [
        {
          "output_type": "stream",
          "name": "stdout",
          "text": [
            "[[34  2]\n",
            " [ 5 20]]\n"
          ]
        }
      ]
    },
    {
      "cell_type": "code",
      "source": [
        "# Compute confusion matrix\n",
        "cnf_matrix = confusion_matrix(y_test, yhat, labels=[1,0])\n",
        "np.set_printoptions(precision=2)\n",
        "\n",
        "\n",
        "# Plot non-normalized confusion matrix\n",
        "plt.figure()\n",
        "plot_confusion_matrix(cnf_matrix, classes=['1','0'],normalize= False,  title='Confusion matrix')"
      ],
      "metadata": {
        "colab": {
          "base_uri": "https://localhost:8080/",
          "height": 363
        },
        "id": "6SrlU65mk0u0",
        "outputId": "5c170044-493b-461f-eb50-c45c6a306cef"
      },
      "execution_count": null,
      "outputs": [
        {
          "output_type": "stream",
          "name": "stdout",
          "text": [
            "Confusion matrix, without normalization\n",
            "[[34  2]\n",
            " [ 5 20]]\n"
          ]
        },
        {
          "output_type": "display_data",
          "data": {
            "text/plain": [
              "<Figure size 432x288 with 2 Axes>"
            ],
            "image/png": "[encoded data removed]"
          },
          "metadata": {
            "needs_background": "light"
          }
        }
      ]
    },
    {
      "cell_type": "markdown",
      "source": [],
      "metadata": {
        "id": "yztNb3-S31sx"
      }
    },
    {
      "cell_type": "markdown",
      "source": [
        "![image.png](data:image/png;base64,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)"
      ],
      "metadata": {
        "id": "E4gGdnFi4aT9"
      }
    },
    {
      "cell_type": "code",
      "source": [
        "print (classification_report(y_test, yhat))"
      ],
      "metadata": {
        "colab": {
          "base_uri": "https://localhost:8080/"
        },
        "id": "FLOMo1kVlIqL",
        "outputId": "6c862cb0-9526-403a-e823-0c9243b411b2"
      },
      "execution_count": null,
      "outputs": [
        {
          "output_type": "stream",
          "name": "stdout",
          "text": [
            "              precision    recall  f1-score   support\n",
            "\n",
            "           0       0.91      0.80      0.85        25\n",
            "           1       0.87      0.94      0.91        36\n",
            "\n",
            "    accuracy                           0.89        61\n",
            "   macro avg       0.89      0.87      0.88        61\n",
            "weighted avg       0.89      0.89      0.88        61\n",
            "\n"
          ]
        }
      ]
    },
    {
      "cell_type": "code",
      "source": [
        "from sklearn.metrics import log_loss\n",
        "log_loss(y_test, yhat_prob)"
      ],
      "metadata": {
        "colab": {
          "base_uri": "https://localhost:8080/"
        },
        "id": "irrEMPOm4rwS",
        "outputId": "7f977bc9-2caf-4463-89ac-a7816afac455"
      },
      "execution_count": null,
      "outputs": [
        {
          "output_type": "execute_result",
          "data": {
            "text/plain": [
              "0.47400719287898124"
            ]
          },
          "metadata": {},
          "execution_count": 185
        }
      ]
    },
    {
      "cell_type": "markdown",
      "source": [
        "## **SVM**"
      ],
      "metadata": {
        "id": "awo7q0g6AZRA"
      }
    },
    {
      "cell_type": "code",
      "source": [
        "from sklearn import svm\n",
        "kernels = ['linear', 'poly', 'rbf', 'sigmoid']\n",
        "for kernel in kernels:\n",
        "   clf = svm.SVC(kernel=kernel)\n",
        "   clf.fit(X_train, y_train) \n"
      ],
      "metadata": {
        "id": "m3c2unbCAd1L"
      },
      "execution_count": null,
      "outputs": []
    },
    {
      "cell_type": "code",
      "source": [
        "yhat = clf.predict(X_test)\n",
        "yhat [0:5]"
      ],
      "metadata": {
        "colab": {
          "base_uri": "https://localhost:8080/"
        },
        "id": "8Qp1CaJRBnzQ",
        "outputId": "2cf1387a-7c7b-4e40-c39f-e176918b36eb"
      },
      "execution_count": null,
      "outputs": [
        {
          "output_type": "execute_result",
          "data": {
            "text/plain": [
              "array([1, 0, 0, 1, 1])"
            ]
          },
          "metadata": {},
          "execution_count": 187
        }
      ]
    },
    {
      "cell_type": "code",
      "source": [
        "print(confusion_matrix(y_test, yhat, labels=[1,0]))"
      ],
      "metadata": {
        "colab": {
          "base_uri": "https://localhost:8080/"
        },
        "id": "-bHkpiBEBtPq",
        "outputId": "1cf19caf-d067-447c-84da-da0e4c2b89ad"
      },
      "execution_count": null,
      "outputs": [
        {
          "output_type": "stream",
          "name": "stdout",
          "text": [
            "[[33  3]\n",
            " [ 4 21]]\n"
          ]
        }
      ]
    },
    {
      "cell_type": "code",
      "source": [
        "# Compute confusion matrix\n",
        "cnf_matrix = confusion_matrix(y_test, yhat, labels=[1,0])\n",
        "np.set_printoptions(precision=2)\n",
        "\n",
        "\n",
        "# Plot non-normalized confusion matrix\n",
        "plt.figure()\n",
        "plot_confusion_matrix(cnf_matrix, classes=['1','0'],normalize= False,  title='Confusion matrix')"
      ],
      "metadata": {
        "colab": {
          "base_uri": "https://localhost:8080/",
          "height": 363
        },
        "id": "xoIu1jjnDL2i",
        "outputId": "e11db297-669a-4c8e-c646-df987f3de5d0"
      },
      "execution_count": null,
      "outputs": [
        {
          "output_type": "stream",
          "name": "stdout",
          "text": [
            "Confusion matrix, without normalization\n",
            "[[33  3]\n",
            " [ 4 21]]\n"
          ]
        },
        {
          "output_type": "display_data",
          "data": {
            "text/plain": [
              "<Figure size 432x288 with 2 Axes>"
            ],
            "image/png": "[encoded data removed]"
          },
          "metadata": {
            "needs_background": "light"
          }
        }
      ]
    },
    {
      "cell_type": "code",
      "source": [
        "print (classification_report(y_test, yhat))"
      ],
      "metadata": {
        "colab": {
          "base_uri": "https://localhost:8080/"
        },
        "id": "46RDtWahD2qp",
        "outputId": "e34ba6dc-eeb7-4e46-888d-a2ee8eed6291"
      },
      "execution_count": null,
      "outputs": [
        {
          "output_type": "stream",
          "name": "stdout",
          "text": [
            "              precision    recall  f1-score   support\n",
            "\n",
            "           0       0.88      0.84      0.86        25\n",
            "           1       0.89      0.92      0.90        36\n",
            "\n",
            "    accuracy                           0.89        61\n",
            "   macro avg       0.88      0.88      0.88        61\n",
            "weighted avg       0.88      0.89      0.88        61\n",
            "\n"
          ]
        }
      ]
    },
    {
      "cell_type": "code",
      "source": [
        "from sklearn.metrics import f1_score\n",
        "f1_score(y_test, yhat, average='weighted') "
      ],
      "metadata": {
        "colab": {
          "base_uri": "https://localhost:8080/"
        },
        "id": "ZxHCb-01EJz6",
        "outputId": "a8b50c59-8bc1-4365-c9e6-a778ca782f93"
      },
      "execution_count": null,
      "outputs": [
        {
          "output_type": "execute_result",
          "data": {
            "text/plain": [
              "0.8848609284270637"
            ]
          },
          "metadata": {},
          "execution_count": 191
        }
      ]
    },
    {
      "cell_type": "code",
      "source": [
        "from sklearn.metrics import jaccard_score\n",
        "jaccard_score(y_test, yhat,pos_label=1)"
      ],
      "metadata": {
        "colab": {
          "base_uri": "https://localhost:8080/"
        },
        "id": "q4Ch2BuAEYSA",
        "outputId": "57d3fdd3-0cfd-475c-9a0c-aed3b641b653"
      },
      "execution_count": null,
      "outputs": [
        {
          "output_type": "execute_result",
          "data": {
            "text/plain": [
              "0.825"
            ]
          },
          "metadata": {},
          "execution_count": 192
        }
      ]
    },
    {
      "cell_type": "markdown",
      "source": [
        "## **DecisionTree**"
      ],
      "metadata": {
        "id": "yapDxYT7GCn5"
      }
    },
    {
      "cell_type": "code",
      "source": [
        "model = DecisionTreeClassifier(criterion=\"entropy\", max_depth = 4)"
      ],
      "metadata": {
        "id": "50H3vlawFzm0"
      },
      "execution_count": null,
      "outputs": []
    },
    {
      "cell_type": "code",
      "source": [
        "model.fit(X_train, y_train)"
      ],
      "metadata": {
        "colab": {
          "base_uri": "https://localhost:8080/"
        },
        "id": "dQDdL2fLF4rc",
        "outputId": "e4593c9a-27bc-4a6a-d2a1-a34e18ffa59f"
      },
      "execution_count": null,
      "outputs": [
        {
          "output_type": "execute_result",
          "data": {
            "text/plain": [
              "DecisionTreeClassifier(criterion='entropy', max_depth=4)"
            ]
          },
          "metadata": {},
          "execution_count": 194
        }
      ]
    },
    {
      "cell_type": "code",
      "source": [
        "predTree = model.predict(X_test)"
      ],
      "metadata": {
        "id": "MLt9QdOGGSdq"
      },
      "execution_count": null,
      "outputs": []
    },
    {
      "cell_type": "code",
      "source": [
        "print (predTree [0:15])\n",
        "print (y_test [0:15])\n"
      ],
      "metadata": {
        "colab": {
          "base_uri": "https://localhost:8080/"
        },
        "id": "yZZeCOnAGfRm",
        "outputId": "0de47ad3-2861-444f-ff3a-90fcdc746ef5"
      },
      "execution_count": null,
      "outputs": [
        {
          "output_type": "stream",
          "name": "stdout",
          "text": [
            "[1 0 1 1 0 0 0 1 1 1 1 1 1 0 0]\n",
            "[1 0 1 1 0 0 0 1 1 1 1 1 1 0 1]\n"
          ]
        }
      ]
    },
    {
      "cell_type": "code",
      "source": [
        "print(\"DecisionTrees's Accuracy: \", metrics.accuracy_score(y_test, predTree))"
      ],
      "metadata": {
        "colab": {
          "base_uri": "https://localhost:8080/"
        },
        "id": "xy7XXLLhGp_L",
        "outputId": "7b953d9a-78a3-4759-bbc9-fb17d72fe923"
      },
      "execution_count": null,
      "outputs": [
        {
          "output_type": "stream",
          "name": "stdout",
          "text": [
            "DecisionTrees's Accuracy:  0.819672131147541\n"
          ]
        }
      ]
    },
    {
      "cell_type": "code",
      "source": [
        "jaccard_score(y_test, predTree,pos_label=1)"
      ],
      "metadata": {
        "colab": {
          "base_uri": "https://localhost:8080/"
        },
        "id": "UJb7AwSLG7KT",
        "outputId": "d5c825c0-ec01-433d-eb2f-dd5da55166d3"
      },
      "execution_count": null,
      "outputs": [
        {
          "output_type": "execute_result",
          "data": {
            "text/plain": [
              "0.717948717948718"
            ]
          },
          "metadata": {},
          "execution_count": 198
        }
      ]
    },
    {
      "cell_type": "code",
      "source": [
        "print(confusion_matrix(y_test, predTree, labels=[1,0]))"
      ],
      "metadata": {
        "colab": {
          "base_uri": "https://localhost:8080/"
        },
        "id": "ZCGL9osNIE6o",
        "outputId": "91041169-1994-4be9-d8a6-a8773a438f6d"
      },
      "execution_count": null,
      "outputs": [
        {
          "output_type": "stream",
          "name": "stdout",
          "text": [
            "[[28  8]\n",
            " [ 3 22]]\n"
          ]
        }
      ]
    }
  ]
}